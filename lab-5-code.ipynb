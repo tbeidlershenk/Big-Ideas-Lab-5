{
 "cells": [
  {
   "cell_type": "code",
   "execution_count": 5,
   "metadata": {},
   "outputs": [
    {
     "name": "stdin",
     "output_type": "stream",
     "text": [
      "What is your name? toby\n",
      "What day of the week is it (monday being 1)? 6\n"
     ]
    },
    {
     "name": "stdout",
     "output_type": "stream",
     "text": [
      "It is already the weekend, toby!\n"
     ]
    }
   ],
   "source": [
    "name = input(\"What is your name?\")\n",
    "day = int(input(\"What day of the week is it (monday being 1)?\"))\n",
    "if (day < 6):\n",
    "    days_until_weekend = 6-day\n",
    "    print(days_until_weekend, \"days until the weekend, \" + name + \"!\")\n",
    "else:\n",
    "    print(\"It is already the weekend, \" + name + \"!\")\n"
   ]
  },
  {
   "cell_type": "code",
   "execution_count": null,
   "metadata": {},
   "outputs": [],
   "source": []
  }
 ],
 "metadata": {
  "kernelspec": {
   "display_name": "Python 3",
   "language": "python",
   "name": "python3"
  },
  "language_info": {
   "codemirror_mode": {
    "name": "ipython",
    "version": 3
   },
   "file_extension": ".py",
   "mimetype": "text/x-python",
   "name": "python",
   "nbconvert_exporter": "python",
   "pygments_lexer": "ipython3",
   "version": "3.8.3"
  }
 },
 "nbformat": 4,
 "nbformat_minor": 4
}
