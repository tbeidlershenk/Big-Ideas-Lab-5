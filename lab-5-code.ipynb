{
 "cells": [
  {
   "cell_type": "code",
   "execution_count": 3,
   "metadata": {},
   "outputs": [
    {
     "name": "stdin",
     "output_type": "stream",
     "text": [
      "What is your name? toby\n",
      "What day of the week is it (monday being 1)? 4\n"
     ]
    },
    {
     "name": "stdout",
     "output_type": "stream",
     "text": [
      "2 days until the weekend, toby!\n"
     ]
    },
    {
     "name": "stdin",
     "output_type": "stream",
     "text": [
      "What month of the year is it (number 1-12)? 3\n"
     ]
    },
    {
     "name": "stdout",
     "output_type": "stream",
     "text": [
      "9 months until the winter holidays, toby!\n"
     ]
    }
   ],
   "source": [
    "name = input(\"What is your name?\")\n",
    "day = int(input(\"What day of the week is it (monday being 1)?\"))\n",
    "if (day < 6):\n",
    "    days_until_weekend = 6-day\n",
    "    print(days_until_weekend, \"days until the weekend, \" + name + \"!\")\n",
    "else:\n",
    "    print(\"It is already the weekend, \" + name + \"!\")\n",
    "month = int(input(\"What month of the year is it (number 1-12)?\"))\n",
    "if (month < 12):\n",
    "    print(12-month, \"months until the winter holidays, \" + name + \"!\")\n",
    "else:\n",
    "    print(\"It's already December, \" + name + \"! Enjoy the holidays!\")"
   ]
  },
  {
   "cell_type": "code",
   "execution_count": null,
   "metadata": {},
   "outputs": [],
   "source": []
  }
 ],
 "metadata": {
  "kernelspec": {
   "display_name": "Python 3",
   "language": "python",
   "name": "python3"
  },
  "language_info": {
   "codemirror_mode": {
    "name": "ipython",
    "version": 3
   },
   "file_extension": ".py",
   "mimetype": "text/x-python",
   "name": "python",
   "nbconvert_exporter": "python",
   "pygments_lexer": "ipython3",
   "version": "3.8.3"
  }
 },
 "nbformat": 4,
 "nbformat_minor": 4
}
